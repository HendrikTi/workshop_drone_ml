{
 "cells": [
  {
   "cell_type": "code",
   "execution_count": 1,
   "metadata": {},
   "outputs": [
    {
     "data": {
      "text/plain": [
       "'\\ndef confusion_matrix(results, labels):\\n    data = {\\'y_Actual\\':results[:,0].astype(np.uint8), \\'y_Predicted\\':labels}\\n    df = pd.DataFrame(data, columns=[\\'y_Actual\\', \\'y_Predicted\\'])\\n    cm = pd.crosstab(df[\\'y_Actual\\'], df[\\'y_Predicted\\'],\\n    rownames=[\\'Actual\\'], colnames=[\\'Predicted\\'])\\n    cm = cm.astype(np.float32) / cm.sum(axis=1)[:,np.newaxis]*100.0\\n    sn.heatmap(cm, annot=True, fmt=\\'.2f\\', annot_kws={\"size\":8})\\n    plt.title(\\'Normalized Confusion Matrix in %\\')\\n    plt.show()\\n'"
      ]
     },
     "execution_count": 1,
     "metadata": {},
     "output_type": "execute_result"
    }
   ],
   "source": [
    "import pandas as pd\n",
    "import numpy as np\n",
    "from sklearn import neighbors\n",
    "import matplotlib.pyplot as plt\n",
    "import seaborn as sn\n",
    "from sklearn.metrics import ConfusionMatrixDisplay, confusion_matrix\n",
    "from sklearn.preprocessing import MinMaxScaler, StandardScaler\n"
   ]
  },
  {
   "cell_type": "code",
   "execution_count": 2,
   "metadata": {},
   "outputs": [],
   "source": [
    "def replace_string_with_int(x):\n",
    "    if x == 'rest':\n",
    "        return 0\n",
    "    elif x == 'transport':\n",
    "        return 1\n",
    "    elif x == 'flying':\n",
    "        return 2\n",
    "\n",
    "TRAIN_TEST_SPLIT = 0.8\n",
    "\n",
    "header = [\"accx\", \"accy\", \"accz\", \"gyrx\", \"gyry\", \"gyrz\", \"no\"]\n",
    "\n",
    "def split_dataframe(df, chunk_size = 30): \n",
    "    chunks = list()\n",
    "    num_chunks = len(df) // chunk_size + 1\n",
    "    for i in range(num_chunks):\n",
    "        chunks.append(df[i*chunk_size:(i+1)*chunk_size])\n",
    "    return chunks"
   ]
  },
  {
   "cell_type": "code",
   "execution_count": 3,
   "metadata": {},
   "outputs": [],
   "source": [
    "df_test = pd.DataFrame(columns=header)\n",
    "df_train = pd.DataFrame(columns=header)\n",
    "\n",
    "df = pd.read_csv(\"../data/flying_all.csv\", names=header, skiprows=1000, nrows=30000)\n",
    "df = df.drop(columns=['no'])\n",
    "df[\"label\"] = 'flying'\n",
    "# Split into training and test-set\n",
    "dfs = np.split(df, [int(len(df)*TRAIN_TEST_SPLIT)], axis=0)\n",
    "\n",
    "\n",
    "#dfs[0].to_csv(\"train_flying1.csv\")  \n",
    "#dfs[1].to_csv(\"test_flying1.csv\")\n",
    "df_train = pd.concat([dfs[0], df_train],axis=0)\n",
    "df_test = pd.concat([dfs[1], df_test],axis=0)\n",
    "df = pd.read_csv(\"../data/measure_transport.csv\", names=header, skiprows=1000, nrows=30000)\n",
    "df = df.drop(columns=[\"no\"])\n",
    "df[\"label\"] = 'transport'\n",
    "# Split into training and test-set\n",
    "dfs = np.split(df, [int(len(df)*TRAIN_TEST_SPLIT)], axis=0)\n",
    "\n",
    "\n",
    "#dfs[0].to_csv(\"train_flying1.csv\") \n",
    "#dfs[1].to_csv(\"test_flying1.csv\")\n",
    "df_train = pd.concat([dfs[0], df_train],axis=0)\n",
    "df_test = pd.concat([dfs[1], df_test],axis=0)\n",
    "\n",
    "df = pd.read_csv(\"../data/rest_horizontal.csv\", names=header, skiprows=1000, nrows=10000)\n",
    "df = df.drop(columns=[\"no\"])\n",
    "df[\"label\"] = 'rest'\n",
    "# Split into training and test-set\n",
    "dfs = np.split(df, [int(len(df)*TRAIN_TEST_SPLIT)], axis=0)\n",
    "\n",
    "#dfs[0].to_csv(\"train_flying1.csv\") \n",
    "#dfs[1].to_csv(\"test_flying1.csv\")\n",
    "df_train = pd.concat([dfs[0], df_train],axis=0)\n",
    "df_test = pd.concat([dfs[1], df_test],axis=0)\n",
    "\n",
    "df = pd.read_csv(\"../data/rest_vertical_left.csv\", names=header, skiprows=1000, nrows=10000)\n",
    "df = df.drop(columns=[\"no\"])\n",
    "df[\"label\"] = 'rest'\n",
    "# Split into training and test-set\n",
    "dfs = np.split(df, [int(len(df)*TRAIN_TEST_SPLIT)], axis=0)\n",
    "\n",
    "#dfs[0].to_csv(\"train_flying1.csv\") \n",
    "#dfs[1].to_csv(\"test_flying1.csv\")\n",
    "df_train = pd.concat([dfs[0], df_train],axis=0)\n",
    "df_test = pd.concat([dfs[1], df_test],axis=0)\n",
    "\n",
    "df = pd.read_csv(\"../data/rest_vertical_right.csv\", names=header, skiprows=1000, nrows=10000)\n",
    "df = df.drop(columns=[\"no\"])\n",
    "df[\"label\"] = 'rest'\n",
    "# Split into training and test-set\n",
    "dfs = np.split(df, [int(len(df)*TRAIN_TEST_SPLIT)], axis=0)\n",
    "\n",
    "#dfs[0].to_csv(\"train_flying1.csv\")  \n",
    "#dfs[1].to_csv(\"test_flying1.csv\")\n",
    "df_train = pd.concat([dfs[0], df_train],axis=0)\n",
    "df_test = pd.concat([dfs[1], df_test],axis=0)"
   ]
  },
  {
   "cell_type": "code",
   "execution_count": 4,
   "metadata": {},
   "outputs": [
    {
     "name": "stdout",
     "output_type": "stream",
     "text": [
      "[[0.47485599 0.51413963 0.57845248 0.58531949 0.46201072 0.4067999 ]\n",
      " [0.47653285 0.51624838 0.57818503 0.58484976 0.46198749 0.40712805]\n",
      " [0.47611392 0.51681041 0.58032572 0.58500633 0.46256813 0.40608393]\n",
      " ...\n",
      " [0.77903641 0.43411593 0.41879959 0.52423683 0.46613588 0.43061977]\n",
      " [0.77833762 0.4414263  0.41572173 0.58312906 0.48441441 0.39822216]\n",
      " [0.77121183 0.45421989 0.41746125 0.60403199 0.51351604 0.38834776]]\n",
      "[[0.47331935 0.517092   0.57738213 0.58549563 0.46247523 0.40718772]\n",
      " [0.47681214 0.51765402 0.57818503 0.58506505 0.46249845 0.40694906]\n",
      " [0.47583407 0.51681041 0.57925537 0.58526077 0.46249845 0.40706839]\n",
      " ...\n",
      " [0.49190501 0.27328365 0.43886979 0.61397458 0.47208163 0.41847813]\n",
      " [0.48911044 0.29184146 0.44703137 0.62470006 0.47503128 0.41731468]\n",
      " [0.49330201 0.32473901 0.46482715 0.62462177 0.46290753 0.42522017]]\n",
      "Accuracy: 0.9787222222222223 \n",
      "True Class: [0 0 0 ... 2 2 2] \n",
      "predicted Class: [0 0 0 ... 2 2 2]\n"
     ]
    },
    {
     "data": {
      "image/png": "[encoded data removed]",
      "text/plain": [
       "<Figure size 640x480 with 2 Axes>"
      ]
     },
     "metadata": {},
     "output_type": "display_data"
    }
   ],
   "source": [
    "\n",
    "k = 10\n",
    "\n",
    "x_train = df_train.iloc[:, 0:-2].to_numpy()\n",
    "y_train = df_train.iloc[:, -2:-1].to_numpy()\n",
    "\n",
    "scaler = MinMaxScaler()\n",
    "x_train = scaler.fit_transform(x_train);\n",
    "print(x_train)\n",
    "\n",
    "\n",
    "clf = neighbors.KNeighborsClassifier(n_neighbors = k)\n",
    "clf.fit(x_train.astype(float), y_train.ravel())\n",
    "\n",
    "\n",
    "x_test = df_test.iloc[:,:-2].to_numpy()\n",
    "y_test = df_test.iloc[:,-2:-1].to_numpy()\n",
    "\n",
    "x_test = scaler.transform(x_test);\n",
    "print(x_test)\n",
    "\n",
    "y_predict = clf.predict(x_test.astype(float))\n",
    "\n",
    "\n",
    "\n",
    "\n",
    "\n",
    "y_test = y_test.ravel().tolist()\n",
    "y_predict = y_predict.tolist()\n",
    "y_test = list(map(replace_string_with_int ,y_test))\n",
    "y_predict = list(map(replace_string_with_int ,y_predict))\n",
    "\n",
    "accuracy = np.mean(np.array(y_test) == np.array(y_predict))\n",
    "print(\"Accuracy:\", np.array(accuracy), \"\\nTrue Class:\", np.array(y_test[:]), \"\\npredicted Class:\", np.array(y_predict[:]))\n",
    "\n",
    "cm = confusion_matrix(y_test, y_predict)\n",
    "labels = ['rest', 'transport', 'flying']\n",
    "cm = confusion_matrix(y_test, y_predict)\n",
    "cmd = ConfusionMatrixDisplay(cm, display_labels=labels)\n",
    "cmd.plot()\n",
    "plt.show()"
   ]
  },
  {
   "cell_type": "code",
   "execution_count": null,
   "metadata": {},
   "outputs": [],
   "source": []
  },
  {
   "cell_type": "code",
   "execution_count": null,
   "metadata": {},
   "outputs": [],
   "source": []
  },
  {
   "cell_type": "code",
   "execution_count": null,
   "metadata": {},
   "outputs": [],
   "source": []
  },
  {
   "cell_type": "code",
   "execution_count": null,
   "metadata": {},
   "outputs": [],
   "source": []
  }
 ],
 "metadata": {
  "kernelspec": {
   "display_name": "virt_env",
   "language": "python",
   "name": "python3"
  },
  "language_info": {
   "codemirror_mode": {
    "name": "ipython",
    "version": 3
   },
   "file_extension": ".py",
   "mimetype": "text/x-python",
   "name": "python",
   "nbconvert_exporter": "python",
   "pygments_lexer": "ipython3",
   "version": "3.7.4"
  },
  "orig_nbformat": 4
 },
 "nbformat": 4,
 "nbformat_minor": 2
}
