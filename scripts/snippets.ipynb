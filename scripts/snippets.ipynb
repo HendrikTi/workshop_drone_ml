{
 "cells": [
  {
   "cell_type": "code",
   "execution_count": 9,
   "metadata": {},
   "outputs": [],
   "source": [
    "import pandas as pd\n",
    "import numpy as np"
   ]
  },
  {
   "attachments": {},
   "cell_type": "markdown",
   "metadata": {},
   "source": [
    "## Einführung zur Datenverarbeitung mit Pandas"
   ]
  },
  {
   "cell_type": "code",
   "execution_count": 10,
   "metadata": {},
   "outputs": [
    {
     "name": "stdout",
     "output_type": "stream",
     "text": [
      "              0         1         2          3          4          5    6\n",
      "0     -0.058960 -0.143937  0.919325  24.990627  20.261774  10.362262   64\n",
      "1     -0.084839 -0.040666  0.958876  93.860855  78.139641  14.301193   64\n",
      "2     -0.141480  0.009383  1.028700  32.944828 -17.967234   4.163789   64\n",
      "3     -0.150513 -0.009904  1.055556   8.196735  12.154905   3.247758   64\n",
      "4     -0.125367  0.023055  0.996229  16.181469 -11.845097  14.331728   64\n",
      "...         ...       ...       ...        ...        ...        ...  ...\n",
      "33901  0.094742  0.264722  0.978698 -34.754749  22.993790   5.931815  614\n",
      "33902  0.064957  0.237622  0.987487 -48.327267  13.238064  24.206623  614\n",
      "33903  0.042251  0.182690  0.958923 -74.815819  -2.410792  11.855478  614\n",
      "33904  0.043716  0.133862  0.968933 -49.182228   8.154093  30.435631  614\n",
      "33905  0.057388  0.079907  0.963562 -15.609711  11.711346  -1.030018  614\n",
      "\n",
      "[33906 rows x 7 columns]\n"
     ]
    }
   ],
   "source": [
    "# Einlesen der CSV-Dateien aus dem data-Verzeichnis\n",
    "df = pd.read_csv(\"../data/flying_all.csv\", header=None)\n",
    "print(df)\n",
    "\n"
   ]
  },
  {
   "cell_type": "code",
   "execution_count": 11,
   "metadata": {},
   "outputs": [
    {
     "name": "stdout",
     "output_type": "stream",
     "text": [
      "           accx      accy      accz       gyrx       gyry       gyrz   no\n",
      "0     -0.058960 -0.143937  0.919325  24.990627  20.261774  10.362262   64\n",
      "1     -0.084839 -0.040666  0.958876  93.860855  78.139641  14.301193   64\n",
      "2     -0.141480  0.009383  1.028700  32.944828 -17.967234   4.163789   64\n",
      "3     -0.150513 -0.009904  1.055556   8.196735  12.154905   3.247758   64\n",
      "4     -0.125367  0.023055  0.996229  16.181469 -11.845097  14.331728   64\n",
      "...         ...       ...       ...        ...        ...        ...  ...\n",
      "33901  0.094742  0.264722  0.978698 -34.754749  22.993790   5.931815  614\n",
      "33902  0.064957  0.237622  0.987487 -48.327267  13.238064  24.206623  614\n",
      "33903  0.042251  0.182690  0.958923 -74.815819  -2.410792  11.855478  614\n",
      "33904  0.043716  0.133862  0.968933 -49.182228   8.154093  30.435631  614\n",
      "33905  0.057388  0.079907  0.963562 -15.609711  11.711346  -1.030018  614\n",
      "\n",
      "[33906 rows x 7 columns]\n"
     ]
    }
   ],
   "source": [
    "# Hinzufügen eines Headers\n",
    "df.columns = [\"accx\", \"accy\", \"accz\", \"gyrx\", \"gyry\", \"gyrz\", \"no\"]\n",
    "print(df)"
   ]
  },
  {
   "cell_type": "code",
   "execution_count": 12,
   "metadata": {},
   "outputs": [
    {
     "name": "stdout",
     "output_type": "stream",
     "text": [
      "           accx      accy      accz        gyrx       gyry       gyrz     no\n",
      "1116  -0.017212  0.541854  0.842421   24.899025   5.452614   5.873712  100.0\n",
      "1117  -0.023072  0.543563  0.832167  -16.261280  -0.196241  23.278294  100.0\n",
      "1118  -0.009888  0.535506  0.839003  -17.940668  -0.730592  15.537834  100.0\n",
      "1119  -0.032105  0.586532  0.974745 -114.612427 -66.974869  50.972950  100.0\n",
      "1120   0.109252  0.342391  0.853651  -42.581890 -43.478683  41.659973  100.0\n",
      "...         ...       ...       ...         ...        ...        ...    ...\n",
      "24193 -0.043686 -0.286548  0.935241   -8.388336  46.978523  18.282959  300.0\n",
      "24194 -0.113022 -0.278979  0.960144   -2.693680  55.864017  20.695173  300.0\n",
      "24195 -0.140122 -0.262622  0.934021    0.161282  46.673180  19.305861  300.0\n",
      "24196 -0.170883 -0.257739  0.927917   -1.182229  40.291500  17.718073  300.0\n",
      "24197 -0.210190 -0.244556  0.934997   14.115480  46.566307  22.634104  300.0\n",
      "\n",
      "[12462 rows x 7 columns]\n"
     ]
    }
   ],
   "source": [
    "# Samples (Spalte \"no\") 100 - 300 selektieren\n",
    "df = df.where(df[\"no\"] >= 100)\n",
    "df = df.where(df[\"no\"] <= 300)\n",
    "df = df.dropna() # Entfernen von NaN-Werten\n",
    "print(df)"
   ]
  },
  {
   "cell_type": "code",
   "execution_count": 13,
   "metadata": {},
   "outputs": [
    {
     "name": "stdout",
     "output_type": "stream",
     "text": [
      "       index      accx      accy      accz        gyrx       gyry       gyrz  \\\n",
      "0       1116 -0.017212  0.541854  0.842421   24.899025   5.452614   5.873712   \n",
      "1       1117 -0.023072  0.543563  0.832167  -16.261280  -0.196241  23.278294   \n",
      "2       1118 -0.009888  0.535506  0.839003  -17.940668  -0.730592  15.537834   \n",
      "3       1119 -0.032105  0.586532  0.974745 -114.612427 -66.974869  50.972950   \n",
      "4       1120  0.109252  0.342391  0.853651  -42.581890 -43.478683  41.659973   \n",
      "...      ...       ...       ...       ...         ...        ...        ...   \n",
      "12457  24193 -0.043686 -0.286548  0.935241   -8.388336  46.978523  18.282959   \n",
      "12458  24194 -0.113022 -0.278979  0.960144   -2.693680  55.864017  20.695173   \n",
      "12459  24195 -0.140122 -0.262622  0.934021    0.161282  46.673180  19.305861   \n",
      "12460  24196 -0.170883 -0.257739  0.927917   -1.182229  40.291500  17.718073   \n",
      "12461  24197 -0.210190 -0.244556  0.934997   14.115480  46.566307  22.634104   \n",
      "\n",
      "          no  \n",
      "0      100.0  \n",
      "1      100.0  \n",
      "2      100.0  \n",
      "3      100.0  \n",
      "4      100.0  \n",
      "...      ...  \n",
      "12457  300.0  \n",
      "12458  300.0  \n",
      "12459  300.0  \n",
      "12460  300.0  \n",
      "12461  300.0  \n",
      "\n",
      "[12462 rows x 8 columns]\n"
     ]
    }
   ],
   "source": [
    "# Zurücksetzen des Index\n",
    "df = df.reset_index()\n",
    "print(df)"
   ]
  },
  {
   "cell_type": "code",
   "execution_count": 14,
   "metadata": {},
   "outputs": [
    {
     "name": "stdout",
     "output_type": "stream",
     "text": [
      "   index      accx      accy      accz        gyrx        gyry       gyrz  \\\n",
      "0   1116 -0.017212  0.541854  0.842421   24.899025    5.452614   5.873712   \n",
      "1   1117 -0.023072  0.543563  0.832167  -16.261280   -0.196241  23.278294   \n",
      "2   1118 -0.009888  0.535506  0.839003  -17.940668   -0.730592  15.537834   \n",
      "3   1119 -0.032105  0.586532  0.974745 -114.612427  -66.974869  50.972950   \n",
      "4   1120  0.109252  0.342391  0.853651  -42.581890  -43.478683  41.659973   \n",
      "5   1121  0.195678  0.331405  0.868788 -131.925400 -100.333649  51.614170   \n",
      "6   1122  0.233764  0.281356  1.003310  -91.574257  -87.295479  27.476765   \n",
      "7   1123  0.270874  0.266708  1.065565  -79.971207  -76.379448  36.408066   \n",
      "8   1124  0.391479  0.087997  0.806288  -81.940666  -61.738224  10.911880   \n",
      "9   1125  0.429321  0.075301  0.888563  -58.230743  -46.700058   6.606536   \n",
      "\n",
      "      no  \n",
      "0  100.0  \n",
      "1  100.0  \n",
      "2  100.0  \n",
      "3  100.0  \n",
      "4  100.0  \n",
      "5  100.0  \n",
      "6  100.0  \n",
      "7  100.0  \n",
      "8  100.0  \n",
      "9  100.0  \n",
      "       index      accx      accy      accz       gyrx       gyry       gyrz  \\\n",
      "12452  24188  0.145035 -0.255054  0.976257 -48.754749  64.734245  16.420364   \n",
      "12453  24189  0.117203 -0.269214  0.952575 -29.121161  43.161728   7.260059   \n",
      "12454  24190  0.084732 -0.289966  0.906433 -29.090626  47.375469  10.252425   \n",
      "12455  24191  0.049332 -0.307544  0.948181  -5.624978  63.039589  16.557768   \n",
      "12456  24192  0.018326 -0.295581  0.912780  10.634563  60.932716  19.427998   \n",
      "12457  24193 -0.043686 -0.286548  0.935241  -8.388336  46.978523  18.282959   \n",
      "12458  24194 -0.113022 -0.278979  0.960144  -2.693680  55.864017  20.695173   \n",
      "12459  24195 -0.140122 -0.262622  0.934021   0.161282  46.673180  19.305861   \n",
      "12460  24196 -0.170883 -0.257739  0.927917  -1.182229  40.291500  17.718073   \n",
      "12461  24197 -0.210190 -0.244556  0.934997  14.115480  46.566307  22.634104   \n",
      "\n",
      "          no  \n",
      "12452  300.0  \n",
      "12453  300.0  \n",
      "12454  300.0  \n",
      "12455  300.0  \n",
      "12456  300.0  \n",
      "12457  300.0  \n",
      "12458  300.0  \n",
      "12459  300.0  \n",
      "12460  300.0  \n",
      "12461  300.0  \n"
     ]
    }
   ],
   "source": [
    "# Ausgabe der ersten 10 Zeilen\n",
    "print(df.head(10))\n",
    "\n",
    "# Ausgabe der letzten 10 Zeilen\n",
    "print(df.tail(10))"
   ]
  },
  {
   "cell_type": "code",
   "execution_count": 15,
   "metadata": {},
   "outputs": [
    {
     "name": "stdout",
     "output_type": "stream",
     "text": [
      "<class 'pandas.core.frame.DataFrame'>\n",
      "RangeIndex: 12462 entries, 0 to 12461\n",
      "Data columns (total 8 columns):\n",
      " #   Column  Non-Null Count  Dtype  \n",
      "---  ------  --------------  -----  \n",
      " 0   index   12462 non-null  int64  \n",
      " 1   accx    12462 non-null  float64\n",
      " 2   accy    12462 non-null  float64\n",
      " 3   accz    12462 non-null  float64\n",
      " 4   gyrx    12462 non-null  float64\n",
      " 5   gyry    12462 non-null  float64\n",
      " 6   gyrz    12462 non-null  float64\n",
      " 7   no      12462 non-null  float64\n",
      "dtypes: float64(7), int64(1)\n",
      "memory usage: 779.0 KB\n",
      "None\n"
     ]
    }
   ],
   "source": [
    "# Informationen zum Aufbau des Dataframes erhalten\n",
    "print(df.info())"
   ]
  },
  {
   "cell_type": "code",
   "execution_count": 16,
   "metadata": {},
   "outputs": [
    {
     "name": "stdout",
     "output_type": "stream",
     "text": [
      "             index          accx          accy          accz          gyrx  \\\n",
      "count  12462.00000  12462.000000  12462.000000  12462.000000  12462.000000   \n",
      "mean   12656.50000      0.012891     -0.039968      0.903808     -7.116060   \n",
      "std     8615.70969      0.258231      0.303155      0.082447     46.487166   \n",
      "min     1116.00000     -0.819703     -0.854142      0.443054   -369.833801   \n",
      "25%     4231.25000     -0.154664     -0.267993      0.861999    -33.823448   \n",
      "50%    12656.50000      0.020141     -0.035799      0.917907     -7.103434   \n",
      "75%    21081.75000      0.190445      0.189771      0.960876     20.684056   \n",
      "max    24197.00000      0.898208      0.867782      1.608290    345.418091   \n",
      "\n",
      "               gyry          gyrz            no  \n",
      "count  12462.000000  12462.000000  12462.000000  \n",
      "mean       4.673208      9.772170    200.000000  \n",
      "std       41.280667     18.187348     58.025312  \n",
      "min     -231.219955   -202.373535    100.000000  \n",
      "25%      -17.113081      1.809677    150.000000  \n",
      "50%        4.718979      8.972949    200.000000  \n",
      "75%       27.498417     16.911138    250.000000  \n",
      "max      350.628204    214.939438    300.000000  \n"
     ]
    }
   ],
   "source": [
    "# Statistische Werte zum Dataframe erhalten\n",
    "print(df.describe())"
   ]
  },
  {
   "cell_type": "code",
   "execution_count": 17,
   "metadata": {},
   "outputs": [
    {
     "name": "stdout",
     "output_type": "stream",
     "text": [
      "      index                                                            \\\n",
      "      count     mean          std     min      25%      50%       75%   \n",
      "no                                                                      \n",
      "100.0  62.0   9556.5  8494.285519  1116.0  1131.25   9556.5  17981.75   \n",
      "101.0  62.0   9587.5  8494.285519  1147.0  1162.25   9587.5  18012.75   \n",
      "102.0  62.0   9618.5  8494.285519  1178.0  1193.25   9618.5  18043.75   \n",
      "103.0  62.0   9649.5  8494.285519  1209.0  1224.25   9649.5  18074.75   \n",
      "104.0  62.0   9680.5  8494.285519  1240.0  1255.25   9680.5  18105.75   \n",
      "...     ...      ...          ...     ...      ...      ...       ...   \n",
      "296.0  62.0  15632.5  8494.285519  7192.0  7207.25  15632.5  24057.75   \n",
      "297.0  62.0  15663.5  8494.285519  7223.0  7238.25  15663.5  24088.75   \n",
      "298.0  62.0  15694.5  8494.285519  7254.0  7269.25  15694.5  24119.75   \n",
      "299.0  62.0  15725.5  8494.285519  7285.0  7300.25  15725.5  24150.75   \n",
      "300.0  62.0  15756.5  8494.285519  7316.0  7331.25  15756.5  24181.75   \n",
      "\n",
      "                accx            ...       gyry              gyrz             \\\n",
      "           max count      mean  ...        75%         max count       mean   \n",
      "no                              ...                                           \n",
      "100.0  17997.0  62.0 -0.022475  ...  36.505237  224.979324  62.0  16.953244   \n",
      "101.0  18028.0  62.0  0.040895  ...  10.063301   74.200706  62.0   7.349451   \n",
      "102.0  18059.0  62.0  0.154286  ...  22.639638   55.590019  62.0  10.236425   \n",
      "103.0  18090.0  62.0  0.090188  ...  36.780049  208.032761  62.0  10.768806   \n",
      "104.0  18121.0  62.0  0.030090  ...  15.650277   63.712158  62.0   6.156642   \n",
      "...        ...   ...       ...  ...        ...         ...   ...        ...   \n",
      "296.0  24073.0  62.0  0.290604  ...  32.639434  140.979324  62.0   9.633372   \n",
      "297.0  24104.0  62.0 -0.041656  ...  32.394551  164.093826  62.0   3.073903   \n",
      "298.0  24135.0  62.0  0.047384  ...  43.096843  295.880096  62.0  13.095819   \n",
      "299.0  24166.0  62.0 -0.066649  ...  40.929715  123.070122  62.0  12.470358   \n",
      "300.0  24197.0  62.0  0.050960  ...  25.952006   64.734245  62.0  13.725713   \n",
      "\n",
      "                                                                          \n",
      "             std        min        25%        50%        75%         max  \n",
      "no                                                                        \n",
      "100.0  13.533834 -16.996517  10.440190  15.627954  24.828762   51.614170  \n",
      "101.0  14.232564 -34.385830   2.389829   6.084486  12.828762   72.942413  \n",
      "102.0  11.771020 -14.080486   4.634104   7.008150  13.671423   49.980583  \n",
      "103.0  19.167547 -30.507969  -2.502559   9.614170  26.501259   57.031052  \n",
      "104.0  17.944018 -41.530869  -3.321686   6.588303  15.007300   43.201958  \n",
      "...          ...        ...        ...        ...        ...         ...  \n",
      "296.0  17.337606 -11.775143   4.107387   6.298227  11.805010  104.713409  \n",
      "297.0  14.253403 -53.317127  -4.111763   5.084486  11.838619   42.453865  \n",
      "298.0  13.333654 -11.210257   1.386755  13.099754  18.324095   55.705772  \n",
      "299.0  14.528939 -11.503300   2.622654   7.971465  17.503483   64.408066  \n",
      "300.0  10.125318 -10.080486   6.304268  14.873712  20.575260   42.163788  \n",
      "\n",
      "[201 rows x 56 columns]\n"
     ]
    }
   ],
   "source": [
    "# Alternativ können wir auch statistische Werte für einzelne Abschnitte gruppiert über die Spalte \"no\" ausgeben\n",
    "print(df.groupby([\"no\"]).describe())"
   ]
  },
  {
   "cell_type": "code",
   "execution_count": 18,
   "metadata": {},
   "outputs": [
    {
     "data": {
      "text/plain": [
       "<AxesSubplot:>"
      ]
     },
     "execution_count": 18,
     "metadata": {},
     "output_type": "execute_result"
    },
    {
     "data": {
      "image/png": "[encoded data removed]",
      "text/plain": [
       "<Figure size 640x480 with 1 Axes>"
      ]
     },
     "metadata": {},
     "output_type": "display_data"
    }
   ],
   "source": [
    "# Ausgabe eines Histograms der Werteverteilung einer Spalte\n",
    "df[\"accy\"].hist()"
   ]
  },
  {
   "cell_type": "code",
   "execution_count": 19,
   "metadata": {},
   "outputs": [
    {
     "name": "stdout",
     "output_type": "stream",
     "text": [
      "       index      accx      accy      accz        gyrx       gyry       gyrz  \\\n",
      "0       1116 -0.017212  0.541854  0.842421   24.899025   5.452614   5.873712   \n",
      "1       1117 -0.023072  0.543563  0.832167  -16.261280  -0.196241  23.278294   \n",
      "2       1118 -0.009888  0.535506  0.839003  -17.940668  -0.730592  15.537834   \n",
      "3       1119 -0.032105  0.586532  0.974745 -114.612427 -66.974869  50.972950   \n",
      "4       1120  0.109252  0.342391  0.853651  -42.581890 -43.478683  41.659973   \n",
      "...      ...       ...       ...       ...         ...        ...        ...   \n",
      "12457  24193 -0.043686 -0.286548  0.935241   -8.388336  46.978523  18.282959   \n",
      "12458  24194 -0.113022 -0.278979  0.960144   -2.693680  55.864017  20.695173   \n",
      "12459  24195 -0.140122 -0.262622  0.934021    0.161282  46.673180  19.305861   \n",
      "12460  24196 -0.170883 -0.257739  0.927917   -1.182229  40.291500  17.718073   \n",
      "12461  24197 -0.210190 -0.244556  0.934997   14.115480  46.566307  22.634104   \n",
      "\n",
      "          no    label  \n",
      "0      100.0  mylabel  \n",
      "1      100.0  mylabel  \n",
      "2      100.0  mylabel  \n",
      "3      100.0  mylabel  \n",
      "4      100.0  mylabel  \n",
      "...      ...      ...  \n",
      "12457  300.0  mylabel  \n",
      "12458  300.0  mylabel  \n",
      "12459  300.0  mylabel  \n",
      "12460  300.0  mylabel  \n",
      "12461  300.0  mylabel  \n",
      "\n",
      "[12462 rows x 9 columns]\n"
     ]
    }
   ],
   "source": [
    "# Hinzufügen von Spalten\n",
    "df[\"label\"] = \"mylabel\"\n",
    "print(df)"
   ]
  },
  {
   "attachments": {},
   "cell_type": "markdown",
   "metadata": {},
   "source": [
    "# Numpy Einführung\n",
    "\n",
    "Numpy ist eine umfangreiche Bibliothek für wissenschaftliches Rechnen. Die Bibliothek beinhaltet: \n",
    "- lineare Algebra\n",
    "- statistische Operationen\n",
    "- Zufallssimulationen\n",
    "- schnelle Operationen mit Matrizen und Vektoren\n",
    "\n",
    "und vieles mehr "
   ]
  },
  {
   "cell_type": "code",
   "execution_count": 20,
   "metadata": {},
   "outputs": [
    {
     "name": "stdout",
     "output_type": "stream",
     "text": [
      "[-0.017212 -0.023072 -0.009888 ... -0.140122 -0.170883 -0.21019 ]\n"
     ]
    }
   ],
   "source": [
    "# Umwandeln einer Spalte des Dataframes in ein Numpy-Array\n",
    "arr = df[\"accx\"].to_numpy()\n",
    "print(arr)"
   ]
  },
  {
   "cell_type": "code",
   "execution_count": 21,
   "metadata": {},
   "outputs": [
    {
     "name": "stdout",
     "output_type": "stream",
     "text": [
      "Erstes Element: -0.017212\n",
      "Letztes Element:-0.21019\n",
      "[-0.017212 -0.023072 -0.009888 -0.032105  0.109252  0.195678  0.233764\n",
      "  0.270874  0.391479  0.429321]\n",
      "[ 0.145035  0.117203  0.084732  0.049332  0.018326 -0.043686 -0.113022\n",
      " -0.140122 -0.170883 -0.21019 ]\n"
     ]
    }
   ],
   "source": [
    "# Indexselektion in Vektoren\n",
    "# 0 entspricht dem Index des ersten Elementes\n",
    "print(\"Erstes Element: \" + str(arr[0]))\n",
    "# -1 entspricht dem Index des letzten Elementes\n",
    "print(\"Letztes Element:\" + str(arr[-1]))\n",
    "\n",
    "# Selektion eines Indexbereiches\n",
    "print(arr[:10]) # Selektion der ersten zehn Elemente (alternativ arr[0:10])\n",
    "print(arr[-10:]) # Selektion der letzten zehn Elemente\n"
   ]
  },
  {
   "cell_type": "code",
   "execution_count": 22,
   "metadata": {},
   "outputs": [
    {
     "name": "stdout",
     "output_type": "stream",
     "text": [
      "[[1 2 3]\n",
      " [4 5 6]]\n"
     ]
    }
   ],
   "source": [
    "# Indexselektion in Matrizen\n",
    "matr = np.array([[1,2,3], [4,5,6]])\n",
    "print(matr)"
   ]
  },
  {
   "cell_type": "code",
   "execution_count": 23,
   "metadata": {},
   "outputs": [
    {
     "name": "stdout",
     "output_type": "stream",
     "text": [
      "[1 2 3]\n",
      "[1 4]\n",
      "[[1 2]\n",
      " [4 5]]\n"
     ]
    }
   ],
   "source": [
    "# Selektion der ersten Zeile\n",
    "print(matr[0,:])\n",
    "# Selektion der ersten Spalte\n",
    "print(matr[:,0])\n",
    "# Selektion der ersten zwei Spalten\n",
    "print(matr[:,:2])"
   ]
  },
  {
   "cell_type": "code",
   "execution_count": 24,
   "metadata": {},
   "outputs": [
    {
     "name": "stdout",
     "output_type": "stream",
     "text": [
      "[[1 2]\n",
      " [3 4]\n",
      " [5 6]]\n"
     ]
    }
   ],
   "source": [
    "# Umwandeln von 2x3 zu 3x2\n",
    "matr = matr.reshape(3,2)\n",
    "print(matr)"
   ]
  }
 ],
 "metadata": {
  "kernelspec": {
   "display_name": "virt_env",
   "language": "python",
   "name": "python3"
  },
  "language_info": {
   "codemirror_mode": {
    "name": "ipython",
    "version": 3
   },
   "file_extension": ".py",
   "mimetype": "text/x-python",
   "name": "python",
   "nbconvert_exporter": "python",
   "pygments_lexer": "ipython3",
   "version": "3.7.4"
  },
  "orig_nbformat": 4
 },
 "nbformat": 4,
 "nbformat_minor": 2
}
