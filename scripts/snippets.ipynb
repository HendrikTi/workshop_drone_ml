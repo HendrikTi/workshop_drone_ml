{
 "cells": [
  {
   "cell_type": "code",
   "execution_count": 2,
   "metadata": {},
   "outputs": [],
   "source": [
    "import pandas as pd\n",
    "import numpy as np"
   ]
  },
  {
   "attachments": {},
   "cell_type": "markdown",
   "metadata": {},
   "source": [
    "## Einführung zur Datenverarbeitung mit Pandas"
   ]
  },
  {
   "cell_type": "code",
   "execution_count": 6,
   "metadata": {},
   "outputs": [
    {
     "name": "stdout",
     "output_type": "stream",
     "text": [
      "              0         1         2          3          4          5    6\n",
      "0     -0.058960 -0.143937  0.919325  24.990627  20.261774  10.362262   64\n",
      "1     -0.084839 -0.040666  0.958876  93.860855  78.139641  14.301193   64\n",
      "2     -0.141480  0.009383  1.028700  32.944828 -17.967234   4.163789   64\n",
      "3     -0.150513 -0.009904  1.055556   8.196735  12.154905   3.247758   64\n",
      "4     -0.125367  0.023055  0.996229  16.181469 -11.845097  14.331728   64\n",
      "...         ...       ...       ...        ...        ...        ...  ...\n",
      "33901  0.094742  0.264722  0.978698 -34.754749  22.993790   5.931815  614\n",
      "33902  0.064957  0.237622  0.987487 -48.327267  13.238064  24.206623  614\n",
      "33903  0.042251  0.182690  0.958923 -74.815819  -2.410792  11.855478  614\n",
      "33904  0.043716  0.133862  0.968933 -49.182228   8.154093  30.435631  614\n",
      "33905  0.057388  0.079907  0.963562 -15.609711  11.711346  -1.030018  614\n",
      "\n",
      "[33906 rows x 7 columns]\n",
      "           accx      accy      accz       gyrx       gyry       gyrz   no\n",
      "0     -0.058960 -0.143937  0.919325  24.990627  20.261774  10.362262   64\n",
      "1     -0.084839 -0.040666  0.958876  93.860855  78.139641  14.301193   64\n",
      "2     -0.141480  0.009383  1.028700  32.944828 -17.967234   4.163789   64\n",
      "3     -0.150513 -0.009904  1.055556   8.196735  12.154905   3.247758   64\n",
      "4     -0.125367  0.023055  0.996229  16.181469 -11.845097  14.331728   64\n",
      "...         ...       ...       ...        ...        ...        ...  ...\n",
      "33901  0.094742  0.264722  0.978698 -34.754749  22.993790   5.931815  614\n",
      "33902  0.064957  0.237622  0.987487 -48.327267  13.238064  24.206623  614\n",
      "33903  0.042251  0.182690  0.958923 -74.815819  -2.410792  11.855478  614\n",
      "33904  0.043716  0.133862  0.968933 -49.182228   8.154093  30.435631  614\n",
      "33905  0.057388  0.079907  0.963562 -15.609711  11.711346  -1.030018  614\n",
      "\n",
      "[33906 rows x 7 columns]\n"
     ]
    }
   ],
   "source": [
    "# Einlesen der CSV-Dateien aus dem data-Verzeichnis\n",
    "df = pd.read_csv(\"../data/flying_all.csv\", header=None)\n",
    "print(df)\n",
    "\n"
   ]
  },
  {
   "cell_type": "code",
   "execution_count": null,
   "metadata": {},
   "outputs": [],
   "source": [
    "# Hinzufügen eines Headers\n",
    "df.columns = [\"accx\", \"accy\", \"accz\", \"gyrx\", \"gyry\", \"gyrz\", \"no\"]\n",
    "print(df)"
   ]
  },
  {
   "cell_type": "code",
   "execution_count": 14,
   "metadata": {},
   "outputs": [
    {
     "name": "stdout",
     "output_type": "stream",
     "text": [
      "           accx      accy      accz        gyrx       gyry       gyrz     no\n",
      "1147   0.178100 -0.405167  0.854384 -116.230743 -12.715324  -3.698807  101.0\n",
      "1148   0.195434 -0.449113  0.794325  -79.986473  31.025135   7.110353  101.0\n",
      "1149   0.162475 -0.528703  0.931776  -51.268913 -26.806927 -13.042318  101.0\n",
      "1150   0.203247 -0.471574  0.871962  -57.726929 -33.493950   5.690506  101.0\n",
      "1151   0.261108 -0.508683  0.825819  -40.810898 -45.005402  15.034018  101.0\n",
      "...         ...       ...       ...         ...        ...        ...    ...\n",
      "24193 -0.043686 -0.286548  0.935241   -8.388336  46.978523  18.282959  300.0\n",
      "24194 -0.113022 -0.278979  0.960144   -2.693680  55.864017  20.695173  300.0\n",
      "24195 -0.140122 -0.262622  0.934021    0.161282  46.673180  19.305861  300.0\n",
      "24196 -0.170883 -0.257739  0.927917   -1.182229  40.291500  17.718073  300.0\n",
      "24197 -0.210190 -0.244556  0.934997   14.115480  46.566307  22.634104  300.0\n",
      "\n",
      "[12400 rows x 7 columns]\n"
     ]
    }
   ],
   "source": [
    "# Samples (Spalte \"no\") 100 - 300 selektieren\n",
    "df = df.where(df[\"no\"] >= 100)\n",
    "df = df.where(df[\"no\"] <= 300)\n",
    "df = df.dropna() # Entfernen von NaN-Werten\n",
    "print(df)"
   ]
  },
  {
   "cell_type": "code",
   "execution_count": 16,
   "metadata": {},
   "outputs": [
    {
     "name": "stdout",
     "output_type": "stream",
     "text": [
      "       index      accx      accy      accz        gyrx       gyry       gyrz  \\\n",
      "0       1147  0.178100 -0.405167  0.854384 -116.230743 -12.715324  -3.698807   \n",
      "1       1148  0.195434 -0.449113  0.794325  -79.986473  31.025135   7.110353   \n",
      "2       1149  0.162475 -0.528703  0.931776  -51.268913 -26.806927 -13.042318   \n",
      "3       1150  0.203247 -0.471574  0.871962  -57.726929 -33.493950   5.690506   \n",
      "4       1151  0.261108 -0.508683  0.825819  -40.810898 -45.005402  15.034018   \n",
      "...      ...       ...       ...       ...         ...        ...        ...   \n",
      "12395  24193 -0.043686 -0.286548  0.935241   -8.388336  46.978523  18.282959   \n",
      "12396  24194 -0.113022 -0.278979  0.960144   -2.693680  55.864017  20.695173   \n",
      "12397  24195 -0.140122 -0.262622  0.934021    0.161282  46.673180  19.305861   \n",
      "12398  24196 -0.170883 -0.257739  0.927917   -1.182229  40.291500  17.718073   \n",
      "12399  24197 -0.210190 -0.244556  0.934997   14.115480  46.566307  22.634104   \n",
      "\n",
      "          no  \n",
      "0      101.0  \n",
      "1      101.0  \n",
      "2      101.0  \n",
      "3      101.0  \n",
      "4      101.0  \n",
      "...      ...  \n",
      "12395  300.0  \n",
      "12396  300.0  \n",
      "12397  300.0  \n",
      "12398  300.0  \n",
      "12399  300.0  \n",
      "\n",
      "[12400 rows x 8 columns]\n"
     ]
    }
   ],
   "source": [
    "# Zurücksetzen des Index\n",
    "df = df.reset_index()\n",
    "print(df)"
   ]
  },
  {
   "cell_type": "code",
   "execution_count": 15,
   "metadata": {},
   "outputs": [
    {
     "name": "stdout",
     "output_type": "stream",
     "text": [
      "          accx      accy      accz        gyrx        gyry       gyrz     no\n",
      "1147  0.178100 -0.405167  0.854384 -116.230743  -12.715324  -3.698807  101.0\n",
      "1148  0.195434 -0.449113  0.794325  -79.986473   31.025135   7.110353  101.0\n",
      "1149  0.162475 -0.528703  0.931776  -51.268913  -26.806927 -13.042318  101.0\n",
      "1150  0.203247 -0.471574  0.871962  -57.726929  -33.493950   5.690506  101.0\n",
      "1151  0.261108 -0.508683  0.825819  -40.810898  -45.005402  15.034018  101.0\n",
      "1152  0.291381 -0.471818  0.739394   -4.444486   -7.142806 -10.233158  101.0\n",
      "1153  0.271850 -0.491593  0.759169   40.089867   41.315208  30.606537  101.0\n",
      "1154  0.313598 -0.512833  0.743056  134.044067   35.132004  34.194321  101.0\n",
      "1155  0.219360 -0.302628  0.899062  140.212006 -112.455780  72.942413  101.0\n",
      "1156  0.253051 -0.170548  1.070937  124.929558   18.536583   5.156155  101.0\n",
      "           accx      accy      accz       gyrx       gyry       gyrz     no\n",
      "24188  0.145035 -0.255054  0.976257 -48.754749  64.734245  16.420364  300.0\n",
      "24189  0.117203 -0.269214  0.952575 -29.121161  43.161728   7.260059  300.0\n",
      "24190  0.084732 -0.289966  0.906433 -29.090626  47.375469  10.252425  300.0\n",
      "24191  0.049332 -0.307544  0.948181  -5.624978  63.039589  16.557768  300.0\n",
      "24192  0.018326 -0.295581  0.912780  10.634563  60.932716  19.427998  300.0\n",
      "24193 -0.043686 -0.286548  0.935241  -8.388336  46.978523  18.282959  300.0\n",
      "24194 -0.113022 -0.278979  0.960144  -2.693680  55.864017  20.695173  300.0\n",
      "24195 -0.140122 -0.262622  0.934021   0.161282  46.673180  19.305861  300.0\n",
      "24196 -0.170883 -0.257739  0.927917  -1.182229  40.291500  17.718073  300.0\n",
      "24197 -0.210190 -0.244556  0.934997  14.115480  46.566307  22.634104  300.0\n"
     ]
    }
   ],
   "source": [
    "# Ausgabe der ersten 10 Zeilen\n",
    "print(df.head(10))\n",
    "\n",
    "# Ausgabe der letzten 10 Zeilen\n",
    "print(df.tail(10))"
   ]
  },
  {
   "cell_type": "code",
   "execution_count": 18,
   "metadata": {},
   "outputs": [
    {
     "name": "stdout",
     "output_type": "stream",
     "text": [
      "<class 'pandas.core.frame.DataFrame'>\n",
      "RangeIndex: 12400 entries, 0 to 12399\n",
      "Data columns (total 8 columns):\n",
      " #   Column  Non-Null Count  Dtype  \n",
      "---  ------  --------------  -----  \n",
      " 0   index   12400 non-null  int64  \n",
      " 1   accx    12400 non-null  float64\n",
      " 2   accy    12400 non-null  float64\n",
      " 3   accz    12400 non-null  float64\n",
      " 4   gyrx    12400 non-null  float64\n",
      " 5   gyry    12400 non-null  float64\n",
      " 6   gyrz    12400 non-null  float64\n",
      " 7   no      12400 non-null  float64\n",
      "dtypes: float64(7), int64(1)\n",
      "memory usage: 775.1 KB\n",
      "None\n"
     ]
    }
   ],
   "source": [
    "# Informationen zum Aufbau des Dataframes erhalten\n",
    "print(df.info())"
   ]
  },
  {
   "cell_type": "code",
   "execution_count": 26,
   "metadata": {},
   "outputs": [
    {
     "name": "stdout",
     "output_type": "stream",
     "text": [
      "              index          accx          accy          accz          gyrx  \\\n",
      "count  12400.000000  12400.000000  12400.000000  12400.000000  12400.000000   \n",
      "mean   12672.000000      0.013068     -0.039650      0.903772     -7.018513   \n",
      "std     8613.847412      0.258212      0.303215      0.082493     46.476300   \n",
      "min     1147.000000     -0.819703     -0.854142      0.443054   -369.833801   \n",
      "25%     4246.750000     -0.154446     -0.267724      0.861999    -33.589523   \n",
      "50%    12672.000000      0.020454     -0.035571      0.917907     -7.067725   \n",
      "75%    21097.250000      0.190472      0.190292      0.960876     20.752758   \n",
      "max    24197.000000      0.898208      0.867782      1.608290    345.418091   \n",
      "\n",
      "               gyry          gyrz            no  \n",
      "count  12400.000000  12400.000000  12400.000000  \n",
      "mean       4.624611      9.736265    200.500000  \n",
      "std       41.056681     18.200917     57.736633  \n",
      "min     -231.219955   -202.373535    101.000000  \n",
      "25%      -17.113081      1.763875    150.750000  \n",
      "50%        4.658720      8.940931    200.500000  \n",
      "75%       27.436740     16.847845    250.250000  \n",
      "max      350.628204    214.939438    300.000000  \n"
     ]
    }
   ],
   "source": [
    "# Statistische Werte zum Dataframe erhalten\n",
    "print(df.describe())"
   ]
  },
  {
   "cell_type": "code",
   "execution_count": 30,
   "metadata": {},
   "outputs": [
    {
     "name": "stdout",
     "output_type": "stream",
     "text": [
      "      index                                                            \\\n",
      "      count     mean          std     min      25%      50%       75%   \n",
      "no                                                                      \n",
      "101.0  62.0   9587.5  8494.285519  1147.0  1162.25   9587.5  18012.75   \n",
      "102.0  62.0   9618.5  8494.285519  1178.0  1193.25   9618.5  18043.75   \n",
      "103.0  62.0   9649.5  8494.285519  1209.0  1224.25   9649.5  18074.75   \n",
      "104.0  62.0   9680.5  8494.285519  1240.0  1255.25   9680.5  18105.75   \n",
      "105.0  62.0   9711.5  8494.285519  1271.0  1286.25   9711.5  18136.75   \n",
      "...     ...      ...          ...     ...      ...      ...       ...   \n",
      "296.0  62.0  15632.5  8494.285519  7192.0  7207.25  15632.5  24057.75   \n",
      "297.0  62.0  15663.5  8494.285519  7223.0  7238.25  15663.5  24088.75   \n",
      "298.0  62.0  15694.5  8494.285519  7254.0  7269.25  15694.5  24119.75   \n",
      "299.0  62.0  15725.5  8494.285519  7285.0  7300.25  15725.5  24150.75   \n",
      "300.0  62.0  15756.5  8494.285519  7316.0  7331.25  15756.5  24181.75   \n",
      "\n",
      "                accx            ...       gyry              gyrz             \\\n",
      "           max count      mean  ...        75%         max count       mean   \n",
      "no                              ...                                           \n",
      "101.0  18028.0  62.0  0.040895  ...  10.063301   74.200706  62.0   7.349451   \n",
      "102.0  18059.0  62.0  0.154286  ...  22.639638   55.590019  62.0  10.236425   \n",
      "103.0  18090.0  62.0  0.090188  ...  36.780049  208.032761  62.0  10.768806   \n",
      "104.0  18121.0  62.0  0.030090  ...  15.650277   63.712158  62.0   6.156642   \n",
      "105.0  18152.0  62.0  0.037922  ...   9.845136  227.361008  62.0  12.398946   \n",
      "...        ...   ...       ...  ...        ...         ...   ...        ...   \n",
      "296.0  24073.0  62.0  0.290604  ...  32.639434  140.979324  62.0   9.633372   \n",
      "297.0  24104.0  62.0 -0.041656  ...  32.394551  164.093826  62.0   3.073903   \n",
      "298.0  24135.0  62.0  0.047384  ...  43.096843  295.880096  62.0  13.095819   \n",
      "299.0  24166.0  62.0 -0.066649  ...  40.929715  123.070122  62.0  12.470358   \n",
      "300.0  24197.0  62.0  0.050960  ...  25.952006   64.734245  62.0  13.725713   \n",
      "\n",
      "                                                                         \n",
      "             std        min       25%        50%        75%         max  \n",
      "no                                                                       \n",
      "101.0  14.232564 -34.385830  2.389829   6.084486  12.828762   72.942413  \n",
      "102.0  11.771020 -14.080486  4.634104   7.008150  13.671423   49.980583  \n",
      "103.0  19.167547 -30.507969 -2.502559   9.614170  26.501259   57.031052  \n",
      "104.0  17.944018 -41.530869 -3.321686   6.588303  15.007300   43.201958  \n",
      "105.0  14.046913 -14.752241  4.649371  11.260059  17.008150   57.110352  \n",
      "...          ...        ...       ...        ...        ...         ...  \n",
      "296.0  17.337606 -11.775143  4.107387   6.298227  11.805010  104.713409  \n",
      "297.0  14.253403 -53.317127 -4.111763   5.084486  11.838619   42.453865  \n",
      "298.0  13.333654 -11.210257  1.386755  13.099754  18.324095   55.705772  \n",
      "299.0  14.528939 -11.503300  2.622654   7.971465  17.503483   64.408066  \n",
      "300.0  10.125318 -10.080486  6.304268  14.873712  20.575260   42.163788  \n",
      "\n",
      "[200 rows x 56 columns]\n"
     ]
    }
   ],
   "source": [
    "# Alternativ können wir auch statistische Werte für einzelne Abschnitte gruppiert über die Spalte \"no\" ausgeben\n",
    "print(df.groupby([\"no\"]).describe())"
   ]
  },
  {
   "cell_type": "code",
   "execution_count": 21,
   "metadata": {},
   "outputs": [
    {
     "data": {
      "text/plain": [
       "<AxesSubplot:>"
      ]
     },
     "execution_count": 21,
     "metadata": {},
     "output_type": "execute_result"
    },
    {
     "data": {
      "image/png": "[encoded data removed]",
      "text/plain": [
       "<Figure size 640x480 with 1 Axes>"
      ]
     },
     "metadata": {},
     "output_type": "display_data"
    }
   ],
   "source": [
    "# Ausgabe eines Histograms der Werteverteilung einer Spalte\n",
    "df[\"accy\"].hist()"
   ]
  },
  {
   "attachments": {},
   "cell_type": "markdown",
   "metadata": {},
   "source": [
    "# Numpy Einführung\n",
    "\n",
    "Numpy ist eine umfangreiche Bibliothek für wissenschaftliches Rechnen. Die Bibliothek beinhaltet: \n",
    "- linearen Algebra\n",
    "- statistische Operationen\n",
    "- Zufallssimulationen\n",
    "- schnelle Operationen mit Matrizen und Vektoren\n",
    "\n",
    "und vieles mehr "
   ]
  },
  {
   "cell_type": "code",
   "execution_count": 31,
   "metadata": {},
   "outputs": [
    {
     "name": "stdout",
     "output_type": "stream",
     "text": [
      "[ 0.1781    0.195434  0.162475 ... -0.140122 -0.170883 -0.21019 ]\n"
     ]
    }
   ],
   "source": [
    "# Umwandeln einer Spalte des Dataframes in ein Numpy-Array\n",
    "arr = df[\"accx\"].to_numpy()\n",
    "print(arr)"
   ]
  },
  {
   "cell_type": "code",
   "execution_count": 50,
   "metadata": {},
   "outputs": [
    {
     "name": "stdout",
     "output_type": "stream",
     "text": [
      "Erstes Element: 0.1781\n",
      "Letztes Element:-0.21019\n",
      "[0.1781   0.195434 0.162475 0.203247 0.261108 0.291381 0.27185  0.313598\n",
      " 0.21936  0.253051]\n",
      "[ 0.145035  0.117203  0.084732  0.049332  0.018326 -0.043686 -0.113022\n",
      " -0.140122 -0.170883 -0.21019 ]\n"
     ]
    }
   ],
   "source": [
    "# Indexselektion in Vektoren\n",
    "# 0 entspricht dem Index des ersten Elementes\n",
    "print(\"Erstes Element: \" + str(arr[0]))\n",
    "# -1 entspricht dem Index des letzten Elementes\n",
    "print(\"Letztes Element:\" + str(arr[-1]))\n",
    "\n",
    "# Selektion eines Indexbereiches\n",
    "print(arr[:10]) # Selektion der ersten zehn Elemente (alternativ arr[0:10])\n",
    "print(arr[-10:]) # Selektion der letzten zehn Elemente\n"
   ]
  },
  {
   "cell_type": "code",
   "execution_count": 56,
   "metadata": {},
   "outputs": [
    {
     "name": "stdout",
     "output_type": "stream",
     "text": [
      "[[1 2 3]\n",
      " [4 5 6]]\n"
     ]
    }
   ],
   "source": [
    "# Indexselektion in Matrizen\n",
    "matr = np.array([[1,2,3], [4,5,6]])\n",
    "print(matr)"
   ]
  },
  {
   "cell_type": "code",
   "execution_count": 70,
   "metadata": {},
   "outputs": [
    {
     "name": "stdout",
     "output_type": "stream",
     "text": [
      "[1 2 3]\n",
      "[1 4]\n",
      "[[1 2]\n",
      " [4 5]]\n"
     ]
    }
   ],
   "source": [
    "# Selektion der ersten Zeile\n",
    "print(matr[0,:])\n",
    "# Selektion der ersten Spalte\n",
    "print(matr[:,0])\n",
    "# Selektion der ersten zwei Spalten\n",
    "print(matr[:,:2])"
   ]
  },
  {
   "cell_type": "code",
   "execution_count": null,
   "metadata": {},
   "outputs": [],
   "source": [
    "# Umwandeln von 2x3 zu 3x2\n",
    "matr = matr.reshape(3,2)\n",
    "print(matr)"
   ]
  }
 ],
 "metadata": {
  "kernelspec": {
   "display_name": "virt_env",
   "language": "python",
   "name": "python3"
  },
  "language_info": {
   "codemirror_mode": {
    "name": "ipython",
    "version": 3
   },
   "file_extension": ".py",
   "mimetype": "text/x-python",
   "name": "python",
   "nbconvert_exporter": "python",
   "pygments_lexer": "ipython3",
   "version": "3.7.4"
  },
  "orig_nbformat": 4
 },
 "nbformat": 4,
 "nbformat_minor": 2
}
